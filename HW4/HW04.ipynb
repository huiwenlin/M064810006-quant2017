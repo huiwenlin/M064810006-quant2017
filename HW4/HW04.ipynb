{
 "cells": [
  {
   "cell_type": "markdown",
   "metadata": {},
   "source": [
    "# Q1. 寫一個九九乘法表！"
   ]
  },
  {
   "cell_type": "code",
   "execution_count": 1,
   "metadata": {
    "scrolled": true
   },
   "outputs": [
    {
     "name": "stdout",
     "output_type": "stream",
     "text": [
      "1 X 1 = 1\t2 X 1 = 2\t3 X 1 = 3\t\n",
      "1 X 2 = 2\t2 X 2 = 4\t3 X 2 = 6\t\n",
      "1 X 3 = 3\t2 X 3 = 6\t3 X 3 = 9\t\n",
      "1 X 4 = 4\t2 X 4 = 8\t3 X 4 = 12\t\n",
      "1 X 5 = 5\t2 X 5 = 10\t3 X 5 = 15\t\n",
      "1 X 6 = 6\t2 X 6 = 12\t3 X 6 = 18\t\n",
      "1 X 7 = 7\t2 X 7 = 14\t3 X 7 = 21\t\n",
      "1 X 8 = 8\t2 X 8 = 16\t3 X 8 = 24\t\n",
      "1 X 9 = 9\t2 X 9 = 18\t3 X 9 = 27\t\n",
      "\n",
      "4 X 1 = 4\t5 X 1 = 5\t6 X 1 = 6\t\n",
      "4 X 2 = 8\t5 X 2 = 10\t6 X 2 = 12\t\n",
      "4 X 3 = 12\t5 X 3 = 15\t6 X 3 = 18\t\n",
      "4 X 4 = 16\t5 X 4 = 20\t6 X 4 = 24\t\n",
      "4 X 5 = 20\t5 X 5 = 25\t6 X 5 = 30\t\n",
      "4 X 6 = 24\t5 X 6 = 30\t6 X 6 = 36\t\n",
      "4 X 7 = 28\t5 X 7 = 35\t6 X 7 = 42\t\n",
      "4 X 8 = 32\t5 X 8 = 40\t6 X 8 = 48\t\n",
      "4 X 9 = 36\t5 X 9 = 45\t6 X 9 = 54\t\n",
      "\n",
      "7 X 1 = 7\t8 X 1 = 8\t9 X 1 = 9\t\n",
      "7 X 2 = 14\t8 X 2 = 16\t9 X 2 = 18\t\n",
      "7 X 3 = 21\t8 X 3 = 24\t9 X 3 = 27\t\n",
      "7 X 4 = 28\t8 X 4 = 32\t9 X 4 = 36\t\n",
      "7 X 5 = 35\t8 X 5 = 40\t9 X 5 = 45\t\n",
      "7 X 6 = 42\t8 X 6 = 48\t9 X 6 = 54\t\n",
      "7 X 7 = 49\t8 X 7 = 56\t9 X 7 = 63\t\n",
      "7 X 8 = 56\t8 X 8 = 64\t9 X 8 = 72\t\n",
      "7 X 9 = 63\t8 X 9 = 72\t9 X 9 = 81\t\n",
      "\n"
     ]
    }
   ],
   "source": [
    "def multiplication_table(m,n): \n",
    "      for row in range(1,10):  \n",
    "            for col in range(m,n+1):\n",
    "                print(\"{1} X {0} = {2}\\t\".format(row,col,row*col),end='')\n",
    "            print()\n",
    "      print()\n",
    "multiplication_table(1,3)\n",
    "multiplication_table(4,6)\n",
    "multiplication_table(7,9)"
   ]
  },
  {
   "cell_type": "markdown",
   "metadata": {},
   "source": [
    "# Q2. 寫一個可以產生金字塔的函式！"
   ]
  },
  {
   "cell_type": "code",
   "execution_count": 25,
   "metadata": {},
   "outputs": [
    {
     "name": "stdout",
     "output_type": "stream",
     "text": [
      "         * \n",
      "        * * \n",
      "       * * * \n",
      "      * * * * \n",
      "     * * * * * \n",
      "    * * * * * * \n",
      "   * * * * * * * \n",
      "  * * * * * * * * \n",
      " * * * * * * * * * \n",
      "* * * * * * * * * * \n"
     ]
    }
   ],
   "source": [
    "#定義pyramid(n)函式\n",
    "def pyramid(n):\n",
    "    for i in range(n):                        # 總共有n層\n",
    "        for j in range(n - i - 1):            # 在第一個*號出現前，先印出空白\n",
    "                 print(\" \", end = \"\")\n",
    "        for k in range(i + 1):                # 印出該層所需要的*字數量\n",
    "                print(\"* \", end = \"\" )\n",
    "        print()                               # 換行\n",
    "\n",
    "pyramid(10)"
   ]
  },
  {
   "cell_type": "markdown",
   "metadata": {},
   "source": [
    "# Q3. 將 Q1 跟 Q2 的函式寫入一個模組，並呼叫模組裡面的函式來使用。"
   ]
  },
  {
   "cell_type": "code",
   "execution_count": 2,
   "metadata": {
    "collapsed": true
   },
   "outputs": [],
   "source": [
    "import HW04"
   ]
  },
  {
   "cell_type": "code",
   "execution_count": 3,
   "metadata": {},
   "outputs": [
    {
     "name": "stdout",
     "output_type": "stream",
     "text": [
      "1 X 1 = 1\t2 X 1 = 2\t3 X 1 = 3\t\n",
      "1 X 2 = 2\t2 X 2 = 4\t3 X 2 = 6\t\n",
      "1 X 3 = 3\t2 X 3 = 6\t3 X 3 = 9\t\n",
      "1 X 4 = 4\t2 X 4 = 8\t3 X 4 = 12\t\n",
      "1 X 5 = 5\t2 X 5 = 10\t3 X 5 = 15\t\n",
      "1 X 6 = 6\t2 X 6 = 12\t3 X 6 = 18\t\n",
      "1 X 7 = 7\t2 X 7 = 14\t3 X 7 = 21\t\n",
      "1 X 8 = 8\t2 X 8 = 16\t3 X 8 = 24\t\n",
      "1 X 9 = 9\t2 X 9 = 18\t3 X 9 = 27\t\n",
      "\n",
      "4 X 1 = 4\t5 X 1 = 5\t6 X 1 = 6\t\n",
      "4 X 2 = 8\t5 X 2 = 10\t6 X 2 = 12\t\n",
      "4 X 3 = 12\t5 X 3 = 15\t6 X 3 = 18\t\n",
      "4 X 4 = 16\t5 X 4 = 20\t6 X 4 = 24\t\n",
      "4 X 5 = 20\t5 X 5 = 25\t6 X 5 = 30\t\n",
      "4 X 6 = 24\t5 X 6 = 30\t6 X 6 = 36\t\n",
      "4 X 7 = 28\t5 X 7 = 35\t6 X 7 = 42\t\n",
      "4 X 8 = 32\t5 X 8 = 40\t6 X 8 = 48\t\n",
      "4 X 9 = 36\t5 X 9 = 45\t6 X 9 = 54\t\n",
      "\n",
      "7 X 1 = 7\t8 X 1 = 8\t9 X 1 = 9\t\n",
      "7 X 2 = 14\t8 X 2 = 16\t9 X 2 = 18\t\n",
      "7 X 3 = 21\t8 X 3 = 24\t9 X 3 = 27\t\n",
      "7 X 4 = 28\t8 X 4 = 32\t9 X 4 = 36\t\n",
      "7 X 5 = 35\t8 X 5 = 40\t9 X 5 = 45\t\n",
      "7 X 6 = 42\t8 X 6 = 48\t9 X 6 = 54\t\n",
      "7 X 7 = 49\t8 X 7 = 56\t9 X 7 = 63\t\n",
      "7 X 8 = 56\t8 X 8 = 64\t9 X 8 = 72\t\n",
      "7 X 9 = 63\t8 X 9 = 72\t9 X 9 = 81\t\n",
      "\n"
     ]
    }
   ],
   "source": [
    "HW04.multiplication_table(1, 3)\n",
    "HW04.multiplication_table(4, 6)\n",
    "HW04.multiplication_table(7, 9)"
   ]
  },
  {
   "cell_type": "code",
   "execution_count": 4,
   "metadata": {},
   "outputs": [
    {
     "name": "stdout",
     "output_type": "stream",
     "text": [
      "2 X 1 = 2\t3 X 1 = 3\t4 X 1 = 4\t5 X 1 = 5\t\n",
      "2 X 2 = 4\t3 X 2 = 6\t4 X 2 = 8\t5 X 2 = 10\t\n",
      "2 X 3 = 6\t3 X 3 = 9\t4 X 3 = 12\t5 X 3 = 15\t\n",
      "2 X 4 = 8\t3 X 4 = 12\t4 X 4 = 16\t5 X 4 = 20\t\n",
      "2 X 5 = 10\t3 X 5 = 15\t4 X 5 = 20\t5 X 5 = 25\t\n",
      "2 X 6 = 12\t3 X 6 = 18\t4 X 6 = 24\t5 X 6 = 30\t\n",
      "2 X 7 = 14\t3 X 7 = 21\t4 X 7 = 28\t5 X 7 = 35\t\n",
      "2 X 8 = 16\t3 X 8 = 24\t4 X 8 = 32\t5 X 8 = 40\t\n",
      "2 X 9 = 18\t3 X 9 = 27\t4 X 9 = 36\t5 X 9 = 45\t\n",
      "\n",
      "6 X 1 = 6\t7 X 1 = 7\t8 X 1 = 8\t9 X 1 = 9\t\n",
      "6 X 2 = 12\t7 X 2 = 14\t8 X 2 = 16\t9 X 2 = 18\t\n",
      "6 X 3 = 18\t7 X 3 = 21\t8 X 3 = 24\t9 X 3 = 27\t\n",
      "6 X 4 = 24\t7 X 4 = 28\t8 X 4 = 32\t9 X 4 = 36\t\n",
      "6 X 5 = 30\t7 X 5 = 35\t8 X 5 = 40\t9 X 5 = 45\t\n",
      "6 X 6 = 36\t7 X 6 = 42\t8 X 6 = 48\t9 X 6 = 54\t\n",
      "6 X 7 = 42\t7 X 7 = 49\t8 X 7 = 56\t9 X 7 = 63\t\n",
      "6 X 8 = 48\t7 X 8 = 56\t8 X 8 = 64\t9 X 8 = 72\t\n",
      "6 X 9 = 54\t7 X 9 = 63\t8 X 9 = 72\t9 X 9 = 81\t\n",
      "\n"
     ]
    }
   ],
   "source": [
    "HW04.multiplication_table(2, 5)\n",
    "HW04.multiplication_table(6, 9)"
   ]
  },
  {
   "cell_type": "code",
   "execution_count": 21,
   "metadata": {},
   "outputs": [
    {
     "name": "stdout",
     "output_type": "stream",
     "text": [
      "    * \n",
      "   * * \n",
      "  * * * \n",
      " * * * * \n",
      "* * * * * \n"
     ]
    }
   ],
   "source": [
    "HW04.pyramid(5)"
   ]
  }
 ],
 "metadata": {
  "kernelspec": {
   "display_name": "Python 3",
   "language": "python",
   "name": "python3"
  },
  "language_info": {
   "codemirror_mode": {
    "name": "ipython",
    "version": 3
   },
   "file_extension": ".py",
   "mimetype": "text/x-python",
   "name": "python",
   "nbconvert_exporter": "python",
   "pygments_lexer": "ipython3",
   "version": "3.6.3"
  }
 },
 "nbformat": 4,
 "nbformat_minor": 2
}
